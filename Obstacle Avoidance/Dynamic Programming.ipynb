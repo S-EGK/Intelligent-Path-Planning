{
  "nbformat": 4,
  "nbformat_minor": 0,
  "metadata": {
    "colab": {
      "provenance": [],
      "authorship_tag": "ABX9TyM6hwZptLpV0dICesMEoXZ9",
      "include_colab_link": true
    },
    "kernelspec": {
      "name": "python3",
      "display_name": "Python 3"
    },
    "language_info": {
      "name": "python"
    }
  },
  "cells": [
    {
      "cell_type": "markdown",
      "metadata": {
        "id": "view-in-github",
        "colab_type": "text"
      },
      "source": [
        "<a href=\"https://colab.research.google.com/github/S-EGK/Intelligent-Path-Planning/blob/main/Obstacle%20Avoidance/Dynamic%20Programming.ipynb\" target=\"_parent\"><img src=\"https://colab.research.google.com/assets/colab-badge.svg\" alt=\"Open In Colab\"/></a>"
      ]
    },
    {
      "cell_type": "markdown",
      "metadata": {
        "id": "99w2m3sUOE5m"
      },
      "source": [
        "# Libraries and Parameters"
      ]
    },
    {
      "cell_type": "code",
      "metadata": {
        "id": "ns-tEppaNWh1"
      },
      "source": [
        "import numpy as np\n",
        "\n",
        "\n",
        "c = -1/25  # step cost\n",
        "R = 3  # no of rows\n",
        "C = 4  # no of columns\n",
        "\n",
        "G = np.random.rand(R,C)\n",
        "\n",
        "G[1][1] = 0 # obstacle\n",
        "G[0][3] = 1 # end state\n",
        "G[1][3] = -1 # undesirable state\n",
        "\n",
        "J = np.zeros(4)\n",
        "\n",
        "print(\"Initial Cost to go Values=\")\n",
        "print(G)"
      ],
      "execution_count": null,
      "outputs": []
    },
    {
      "cell_type": "markdown",
      "metadata": {
        "id": "SswLM2dQOHtH"
      },
      "source": [
        "# Main Block"
      ]
    },
    {
      "cell_type": "code",
      "metadata": {
        "id": "ua25N298Pv-j"
      },
      "source": [
        "for k in range(20):\n",
        "    for j in range(3):\n",
        "        for i in range(4):\n",
        "            # down\n",
        "            d = j+1\n",
        "            if d > R-1:\n",
        "                d = j\n",
        "            elif j == 0 and i == 1:\n",
        "                d = j\n",
        "            \n",
        "            # up\n",
        "            u = j-1\n",
        "            if u < 0:\n",
        "                u = j\n",
        "            elif j == 2 and i == 1:\n",
        "                u = j\n",
        "            \n",
        "            # right\n",
        "            r = i+1\n",
        "            if r > C-1:\n",
        "                r = i\n",
        "            elif j == 1 and i == 0:\n",
        "                r = i\n",
        "            \n",
        "            # left\n",
        "            l = i-1\n",
        "            if  l < 0:\n",
        "                l = i\n",
        "            elif j == 1 and i == 2:\n",
        "                l = i\n",
        "                        \n",
        "            right = 0.8*(c + G[j][r]) + 0.1*(c + G[u][i]) + 0.1*(c + G[d][i])    # right\n",
        "            left = 0.8*(c + G[j][l]) + 0.1*(c + G[u][i]) + 0.1*(c + G[d][i])    # left\n",
        "            up = 0.8*(c + G[u][i]) + 0.1*(c + G[j][r]) + 0.1*(c + G[j][l])    # up\n",
        "            down = 0.8*(c + G[d][i]) + 0.1*(c + G[j][r]) + 0.1*(c + G[j][l])    # down\n",
        "            G[j][i] = max(right, left, up, down)\n",
        "            G[1][1] = 0 # obstacle\n",
        "            G[0][3] = 1 # end state\n",
        "            G[1][3] = -1 # undesirable state\n",
        "        \n",
        "print(\"Final Cost to go Values=\")\n",
        "print(G)"
      ],
      "execution_count": null,
      "outputs": []
    }
  ]
}